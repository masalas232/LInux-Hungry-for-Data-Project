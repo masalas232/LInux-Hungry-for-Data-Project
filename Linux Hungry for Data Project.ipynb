{
 "cells": [
  {
   "cell_type": "markdown",
   "metadata": {},
   "source": [
    "# Linux Hungry for Data Project"
   ]
  },
  {
   "cell_type": "markdown",
   "metadata": {},
   "source": [
    "## Task 1\n",
    "\n",
    "Create a bash script called `hungry.sh` in home directory, which should do two things:\n",
    "\n",
    "- 1) output the text `I am hungry. Feed me data.` to a file in your home directory called demands.txt\n",
    "- 2) `hungry.sh` should also output the date and time that the demand was made to a file in your home directory called demands.log\n",
    "- Ensure that each output is appended to the previous one. "
   ]
  },
  {
   "cell_type": "code",
   "execution_count": null,
   "metadata": {},
   "outputs": [],
   "source": [
    "## Linux Code for Task 1\n",
    "\n",
    "nano ~/hungry.sh\n",
    "\n",
    "#following code goes inside hungry.sh\n",
    "\n",
    "#!/bin/bash\n",
    "echo \"I am hungry. Feed me data.\" >> demands.txt\n",
    "date >> demands.log"
   ]
  },
  {
   "cell_type": "markdown",
   "metadata": {},
   "source": [
    "## Task 2\n",
    "\n",
    "- Once `hungry.sh` created, you are tasked to edit your `crontab` and add new row so that `hungry.sh` runs every minute"
   ]
  },
  {
   "cell_type": "code",
   "execution_count": null,
   "metadata": {},
   "outputs": [],
   "source": [
    "## Linux Code for Task 2\n",
    "\n",
    "crontab -e  # scroll to bottom of file\n",
    "\n",
    "* * * * * bash ~/hungry.sh  # input at bottom of file and save"
   ]
  }
 ],
 "metadata": {
  "kernelspec": {
   "display_name": "Python 3",
   "language": "python",
   "name": "python3"
  },
  "language_info": {
   "codemirror_mode": {
    "name": "ipython",
    "version": 3
   },
   "file_extension": ".py",
   "mimetype": "text/x-python",
   "name": "python",
   "nbconvert_exporter": "python",
   "pygments_lexer": "ipython3",
   "version": "3.6.8"
  }
 },
 "nbformat": 4,
 "nbformat_minor": 2
}
